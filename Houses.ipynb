{
 "cells": [
  {
   "cell_type": "markdown",
   "metadata": {},
   "source": [
    "California Housing price prediction\n"
   ]
  },
  {
   "cell_type": "code",
   "execution_count": 68,
   "metadata": {},
   "outputs": [],
   "source": [
    "import pandas as pd\n",
    "from sklearn.model_selection import train_test_split\n",
    "from sklearn.linear_model import LinearRegression,Lasso,Ridge\n",
    "from sklearn.preprocessing import StandardScaler\n",
    "from sklearn.metrics import accuracy_score\n",
    "from sklearn.metrics import mean_squared_error, mean_absolute_error\n"
   ]
  },
  {
   "cell_type": "markdown",
   "metadata": {},
   "source": [
    "Reading data from CSV file"
   ]
  },
  {
   "cell_type": "code",
   "execution_count": 69,
   "metadata": {},
   "outputs": [
    {
     "name": "stdout",
     "output_type": "stream",
     "text": [
      "0\n"
     ]
    },
    {
     "data": {
      "text/html": [
       "<div>\n",
       "<style scoped>\n",
       "    .dataframe tbody tr th:only-of-type {\n",
       "        vertical-align: middle;\n",
       "    }\n",
       "\n",
       "    .dataframe tbody tr th {\n",
       "        vertical-align: top;\n",
       "    }\n",
       "\n",
       "    .dataframe thead th {\n",
       "        text-align: right;\n",
       "    }\n",
       "</style>\n",
       "<table border=\"1\" class=\"dataframe\">\n",
       "  <thead>\n",
       "    <tr style=\"text-align: right;\">\n",
       "      <th></th>\n",
       "      <th>Median_House_Value</th>\n",
       "      <th>Median_Income</th>\n",
       "      <th>Median_Age</th>\n",
       "      <th>Tot_Rooms</th>\n",
       "      <th>Tot_Bedrooms</th>\n",
       "      <th>Population</th>\n",
       "      <th>Households</th>\n",
       "      <th>Latitude</th>\n",
       "      <th>Longitude</th>\n",
       "      <th>Distance_to_coast</th>\n",
       "      <th>Distance_to_LA</th>\n",
       "      <th>Distance_to_SanDiego</th>\n",
       "      <th>Distance_to_SanJose</th>\n",
       "      <th>Distance_to_SanFrancisco</th>\n",
       "    </tr>\n",
       "  </thead>\n",
       "  <tbody>\n",
       "    <tr>\n",
       "      <th>0</th>\n",
       "      <td>452600.0</td>\n",
       "      <td>8.3252</td>\n",
       "      <td>41</td>\n",
       "      <td>880</td>\n",
       "      <td>129</td>\n",
       "      <td>322</td>\n",
       "      <td>126</td>\n",
       "      <td>37.88</td>\n",
       "      <td>-122.23</td>\n",
       "      <td>9263.040773</td>\n",
       "      <td>556529.158342</td>\n",
       "      <td>735501.806984</td>\n",
       "      <td>67432.517001</td>\n",
       "      <td>21250.213767</td>\n",
       "    </tr>\n",
       "    <tr>\n",
       "      <th>1</th>\n",
       "      <td>358500.0</td>\n",
       "      <td>8.3014</td>\n",
       "      <td>21</td>\n",
       "      <td>7099</td>\n",
       "      <td>1106</td>\n",
       "      <td>2401</td>\n",
       "      <td>1138</td>\n",
       "      <td>37.86</td>\n",
       "      <td>-122.22</td>\n",
       "      <td>10225.733072</td>\n",
       "      <td>554279.850069</td>\n",
       "      <td>733236.884360</td>\n",
       "      <td>65049.908574</td>\n",
       "      <td>20880.600400</td>\n",
       "    </tr>\n",
       "    <tr>\n",
       "      <th>2</th>\n",
       "      <td>352100.0</td>\n",
       "      <td>7.2574</td>\n",
       "      <td>52</td>\n",
       "      <td>1467</td>\n",
       "      <td>190</td>\n",
       "      <td>496</td>\n",
       "      <td>177</td>\n",
       "      <td>37.85</td>\n",
       "      <td>-122.24</td>\n",
       "      <td>8259.085109</td>\n",
       "      <td>554610.717069</td>\n",
       "      <td>733525.682937</td>\n",
       "      <td>64867.289833</td>\n",
       "      <td>18811.487450</td>\n",
       "    </tr>\n",
       "    <tr>\n",
       "      <th>3</th>\n",
       "      <td>341300.0</td>\n",
       "      <td>5.6431</td>\n",
       "      <td>52</td>\n",
       "      <td>1274</td>\n",
       "      <td>235</td>\n",
       "      <td>558</td>\n",
       "      <td>219</td>\n",
       "      <td>37.85</td>\n",
       "      <td>-122.25</td>\n",
       "      <td>7768.086571</td>\n",
       "      <td>555194.266086</td>\n",
       "      <td>734095.290744</td>\n",
       "      <td>65287.138412</td>\n",
       "      <td>18031.047568</td>\n",
       "    </tr>\n",
       "    <tr>\n",
       "      <th>4</th>\n",
       "      <td>342200.0</td>\n",
       "      <td>3.8462</td>\n",
       "      <td>52</td>\n",
       "      <td>1627</td>\n",
       "      <td>280</td>\n",
       "      <td>565</td>\n",
       "      <td>259</td>\n",
       "      <td>37.85</td>\n",
       "      <td>-122.25</td>\n",
       "      <td>7768.086571</td>\n",
       "      <td>555194.266086</td>\n",
       "      <td>734095.290744</td>\n",
       "      <td>65287.138412</td>\n",
       "      <td>18031.047568</td>\n",
       "    </tr>\n",
       "  </tbody>\n",
       "</table>\n",
       "</div>"
      ],
      "text/plain": [
       "   Median_House_Value  Median_Income  Median_Age  Tot_Rooms  Tot_Bedrooms  \\\n",
       "0            452600.0         8.3252          41        880           129   \n",
       "1            358500.0         8.3014          21       7099          1106   \n",
       "2            352100.0         7.2574          52       1467           190   \n",
       "3            341300.0         5.6431          52       1274           235   \n",
       "4            342200.0         3.8462          52       1627           280   \n",
       "\n",
       "   Population  Households  Latitude  Longitude  Distance_to_coast  \\\n",
       "0         322         126     37.88    -122.23        9263.040773   \n",
       "1        2401        1138     37.86    -122.22       10225.733072   \n",
       "2         496         177     37.85    -122.24        8259.085109   \n",
       "3         558         219     37.85    -122.25        7768.086571   \n",
       "4         565         259     37.85    -122.25        7768.086571   \n",
       "\n",
       "   Distance_to_LA  Distance_to_SanDiego  Distance_to_SanJose  \\\n",
       "0   556529.158342         735501.806984         67432.517001   \n",
       "1   554279.850069         733236.884360         65049.908574   \n",
       "2   554610.717069         733525.682937         64867.289833   \n",
       "3   555194.266086         734095.290744         65287.138412   \n",
       "4   555194.266086         734095.290744         65287.138412   \n",
       "\n",
       "   Distance_to_SanFrancisco  \n",
       "0              21250.213767  \n",
       "1              20880.600400  \n",
       "2              18811.487450  \n",
       "3              18031.047568  \n",
       "4              18031.047568  "
      ]
     },
     "execution_count": 69,
     "metadata": {},
     "output_type": "execute_result"
    }
   ],
   "source": [
    "df=pd.read_csv('California_Houses.csv')\n",
    "print(df.duplicated().sum())#check duplicate data\n",
    "df.head()"
   ]
  },
  {
   "cell_type": "markdown",
   "metadata": {},
   "source": [
    "Define target and features\n"
   ]
  },
  {
   "cell_type": "code",
   "execution_count": 70,
   "metadata": {},
   "outputs": [
    {
     "data": {
      "text/html": [
       "<div>\n",
       "<style scoped>\n",
       "    .dataframe tbody tr th:only-of-type {\n",
       "        vertical-align: middle;\n",
       "    }\n",
       "\n",
       "    .dataframe tbody tr th {\n",
       "        vertical-align: top;\n",
       "    }\n",
       "\n",
       "    .dataframe thead th {\n",
       "        text-align: right;\n",
       "    }\n",
       "</style>\n",
       "<table border=\"1\" class=\"dataframe\">\n",
       "  <thead>\n",
       "    <tr style=\"text-align: right;\">\n",
       "      <th></th>\n",
       "      <th>Median_Income</th>\n",
       "      <th>Median_Age</th>\n",
       "      <th>Tot_Rooms</th>\n",
       "      <th>Tot_Bedrooms</th>\n",
       "      <th>Population</th>\n",
       "      <th>Households</th>\n",
       "      <th>Latitude</th>\n",
       "      <th>Longitude</th>\n",
       "      <th>Distance_to_coast</th>\n",
       "      <th>Distance_to_LA</th>\n",
       "      <th>Distance_to_SanDiego</th>\n",
       "      <th>Distance_to_SanJose</th>\n",
       "      <th>Distance_to_SanFrancisco</th>\n",
       "    </tr>\n",
       "  </thead>\n",
       "  <tbody>\n",
       "    <tr>\n",
       "      <th>0</th>\n",
       "      <td>8.3252</td>\n",
       "      <td>41</td>\n",
       "      <td>880</td>\n",
       "      <td>129</td>\n",
       "      <td>322</td>\n",
       "      <td>126</td>\n",
       "      <td>37.88</td>\n",
       "      <td>-122.23</td>\n",
       "      <td>9263.040773</td>\n",
       "      <td>556529.158342</td>\n",
       "      <td>735501.806984</td>\n",
       "      <td>67432.517001</td>\n",
       "      <td>21250.213767</td>\n",
       "    </tr>\n",
       "    <tr>\n",
       "      <th>1</th>\n",
       "      <td>8.3014</td>\n",
       "      <td>21</td>\n",
       "      <td>7099</td>\n",
       "      <td>1106</td>\n",
       "      <td>2401</td>\n",
       "      <td>1138</td>\n",
       "      <td>37.86</td>\n",
       "      <td>-122.22</td>\n",
       "      <td>10225.733072</td>\n",
       "      <td>554279.850069</td>\n",
       "      <td>733236.884360</td>\n",
       "      <td>65049.908574</td>\n",
       "      <td>20880.600400</td>\n",
       "    </tr>\n",
       "    <tr>\n",
       "      <th>2</th>\n",
       "      <td>7.2574</td>\n",
       "      <td>52</td>\n",
       "      <td>1467</td>\n",
       "      <td>190</td>\n",
       "      <td>496</td>\n",
       "      <td>177</td>\n",
       "      <td>37.85</td>\n",
       "      <td>-122.24</td>\n",
       "      <td>8259.085109</td>\n",
       "      <td>554610.717069</td>\n",
       "      <td>733525.682937</td>\n",
       "      <td>64867.289833</td>\n",
       "      <td>18811.487450</td>\n",
       "    </tr>\n",
       "    <tr>\n",
       "      <th>3</th>\n",
       "      <td>5.6431</td>\n",
       "      <td>52</td>\n",
       "      <td>1274</td>\n",
       "      <td>235</td>\n",
       "      <td>558</td>\n",
       "      <td>219</td>\n",
       "      <td>37.85</td>\n",
       "      <td>-122.25</td>\n",
       "      <td>7768.086571</td>\n",
       "      <td>555194.266086</td>\n",
       "      <td>734095.290744</td>\n",
       "      <td>65287.138412</td>\n",
       "      <td>18031.047568</td>\n",
       "    </tr>\n",
       "    <tr>\n",
       "      <th>4</th>\n",
       "      <td>3.8462</td>\n",
       "      <td>52</td>\n",
       "      <td>1627</td>\n",
       "      <td>280</td>\n",
       "      <td>565</td>\n",
       "      <td>259</td>\n",
       "      <td>37.85</td>\n",
       "      <td>-122.25</td>\n",
       "      <td>7768.086571</td>\n",
       "      <td>555194.266086</td>\n",
       "      <td>734095.290744</td>\n",
       "      <td>65287.138412</td>\n",
       "      <td>18031.047568</td>\n",
       "    </tr>\n",
       "    <tr>\n",
       "      <th>...</th>\n",
       "      <td>...</td>\n",
       "      <td>...</td>\n",
       "      <td>...</td>\n",
       "      <td>...</td>\n",
       "      <td>...</td>\n",
       "      <td>...</td>\n",
       "      <td>...</td>\n",
       "      <td>...</td>\n",
       "      <td>...</td>\n",
       "      <td>...</td>\n",
       "      <td>...</td>\n",
       "      <td>...</td>\n",
       "      <td>...</td>\n",
       "    </tr>\n",
       "    <tr>\n",
       "      <th>20635</th>\n",
       "      <td>1.5603</td>\n",
       "      <td>25</td>\n",
       "      <td>1665</td>\n",
       "      <td>374</td>\n",
       "      <td>845</td>\n",
       "      <td>330</td>\n",
       "      <td>39.48</td>\n",
       "      <td>-121.09</td>\n",
       "      <td>162031.481121</td>\n",
       "      <td>654530.186299</td>\n",
       "      <td>830631.543047</td>\n",
       "      <td>248510.058162</td>\n",
       "      <td>222619.890417</td>\n",
       "    </tr>\n",
       "    <tr>\n",
       "      <th>20636</th>\n",
       "      <td>2.5568</td>\n",
       "      <td>18</td>\n",
       "      <td>697</td>\n",
       "      <td>150</td>\n",
       "      <td>356</td>\n",
       "      <td>114</td>\n",
       "      <td>39.49</td>\n",
       "      <td>-121.21</td>\n",
       "      <td>160445.433537</td>\n",
       "      <td>659747.068444</td>\n",
       "      <td>836245.915229</td>\n",
       "      <td>246849.888948</td>\n",
       "      <td>218314.424634</td>\n",
       "    </tr>\n",
       "    <tr>\n",
       "      <th>20637</th>\n",
       "      <td>1.7000</td>\n",
       "      <td>17</td>\n",
       "      <td>2254</td>\n",
       "      <td>485</td>\n",
       "      <td>1007</td>\n",
       "      <td>433</td>\n",
       "      <td>39.43</td>\n",
       "      <td>-121.22</td>\n",
       "      <td>153754.341182</td>\n",
       "      <td>654042.214020</td>\n",
       "      <td>830699.573163</td>\n",
       "      <td>240172.220489</td>\n",
       "      <td>212097.936232</td>\n",
       "    </tr>\n",
       "    <tr>\n",
       "      <th>20638</th>\n",
       "      <td>1.8672</td>\n",
       "      <td>18</td>\n",
       "      <td>1860</td>\n",
       "      <td>409</td>\n",
       "      <td>741</td>\n",
       "      <td>349</td>\n",
       "      <td>39.43</td>\n",
       "      <td>-121.32</td>\n",
       "      <td>152005.022239</td>\n",
       "      <td>657698.007703</td>\n",
       "      <td>834672.461887</td>\n",
       "      <td>238193.865909</td>\n",
       "      <td>207923.199166</td>\n",
       "    </tr>\n",
       "    <tr>\n",
       "      <th>20639</th>\n",
       "      <td>2.3886</td>\n",
       "      <td>16</td>\n",
       "      <td>2785</td>\n",
       "      <td>616</td>\n",
       "      <td>1387</td>\n",
       "      <td>530</td>\n",
       "      <td>39.37</td>\n",
       "      <td>-121.24</td>\n",
       "      <td>146866.196892</td>\n",
       "      <td>648723.337126</td>\n",
       "      <td>825569.179028</td>\n",
       "      <td>233282.769063</td>\n",
       "      <td>205473.376575</td>\n",
       "    </tr>\n",
       "  </tbody>\n",
       "</table>\n",
       "<p>20640 rows × 13 columns</p>\n",
       "</div>"
      ],
      "text/plain": [
       "       Median_Income  Median_Age  Tot_Rooms  Tot_Bedrooms  Population  \\\n",
       "0             8.3252          41        880           129         322   \n",
       "1             8.3014          21       7099          1106        2401   \n",
       "2             7.2574          52       1467           190         496   \n",
       "3             5.6431          52       1274           235         558   \n",
       "4             3.8462          52       1627           280         565   \n",
       "...              ...         ...        ...           ...         ...   \n",
       "20635         1.5603          25       1665           374         845   \n",
       "20636         2.5568          18        697           150         356   \n",
       "20637         1.7000          17       2254           485        1007   \n",
       "20638         1.8672          18       1860           409         741   \n",
       "20639         2.3886          16       2785           616        1387   \n",
       "\n",
       "       Households  Latitude  Longitude  Distance_to_coast  Distance_to_LA  \\\n",
       "0             126     37.88    -122.23        9263.040773   556529.158342   \n",
       "1            1138     37.86    -122.22       10225.733072   554279.850069   \n",
       "2             177     37.85    -122.24        8259.085109   554610.717069   \n",
       "3             219     37.85    -122.25        7768.086571   555194.266086   \n",
       "4             259     37.85    -122.25        7768.086571   555194.266086   \n",
       "...           ...       ...        ...                ...             ...   \n",
       "20635         330     39.48    -121.09      162031.481121   654530.186299   \n",
       "20636         114     39.49    -121.21      160445.433537   659747.068444   \n",
       "20637         433     39.43    -121.22      153754.341182   654042.214020   \n",
       "20638         349     39.43    -121.32      152005.022239   657698.007703   \n",
       "20639         530     39.37    -121.24      146866.196892   648723.337126   \n",
       "\n",
       "       Distance_to_SanDiego  Distance_to_SanJose  Distance_to_SanFrancisco  \n",
       "0             735501.806984         67432.517001              21250.213767  \n",
       "1             733236.884360         65049.908574              20880.600400  \n",
       "2             733525.682937         64867.289833              18811.487450  \n",
       "3             734095.290744         65287.138412              18031.047568  \n",
       "4             734095.290744         65287.138412              18031.047568  \n",
       "...                     ...                  ...                       ...  \n",
       "20635         830631.543047        248510.058162             222619.890417  \n",
       "20636         836245.915229        246849.888948             218314.424634  \n",
       "20637         830699.573163        240172.220489             212097.936232  \n",
       "20638         834672.461887        238193.865909             207923.199166  \n",
       "20639         825569.179028        233282.769063             205473.376575  \n",
       "\n",
       "[20640 rows x 13 columns]"
      ]
     },
     "execution_count": 70,
     "metadata": {},
     "output_type": "execute_result"
    }
   ],
   "source": [
    "X = df.drop(columns=[\"Median_House_Value\"])  \n",
    "X\n"
   ]
  },
  {
   "cell_type": "code",
   "execution_count": 71,
   "metadata": {},
   "outputs": [
    {
     "data": {
      "text/plain": [
       "0        452600.0\n",
       "1        358500.0\n",
       "2        352100.0\n",
       "3        341300.0\n",
       "4        342200.0\n",
       "           ...   \n",
       "20635     78100.0\n",
       "20636     77100.0\n",
       "20637     92300.0\n",
       "20638     84700.0\n",
       "20639     89400.0\n",
       "Name: Median_House_Value, Length: 20640, dtype: float64"
      ]
     },
     "execution_count": 71,
     "metadata": {},
     "output_type": "execute_result"
    }
   ],
   "source": [
    "Y = df[\"Median_House_Value\"]\n",
    "Y  "
   ]
  },
  {
   "cell_type": "markdown",
   "metadata": {},
   "source": [
    "Split Data : training set->70% , validation set->15% , test set->15%\n"
   ]
  },
  {
   "cell_type": "markdown",
   "metadata": {},
   "source": [
    "\n",
    "split data into 70 -> training and 30-> other\n"
   ]
  },
  {
   "cell_type": "code",
   "execution_count": 72,
   "metadata": {},
   "outputs": [],
   "source": [
    "X_train, X_other, Y_train, Y_other = train_test_split(X, Y, train_size=0.7, random_state=1)\n"
   ]
  },
  {
   "cell_type": "markdown",
   "metadata": {},
   "source": [
    "split other into 15 -> validation and 15-> test"
   ]
  },
  {
   "cell_type": "code",
   "execution_count": 73,
   "metadata": {},
   "outputs": [],
   "source": [
    "X_validation, X_testing, Y_validation, Y_testing = train_test_split(X_other, Y_other, train_size=0.5, random_state=1)\n"
   ]
  },
  {
   "cell_type": "code",
   "execution_count": 74,
   "metadata": {},
   "outputs": [
    {
     "name": "stdout",
     "output_type": "stream",
     "text": [
      "Training Set: (14447, 13) (14447,)\n",
      "Validation Set: (3096, 13) (3096,)\n",
      "Testing Set: (3097, 13) (3097,)\n"
     ]
    }
   ],
   "source": [
    "print(\"Training Set:\", X_train.shape, Y_train.shape)\n",
    "print(\"Validation Set:\", X_validation.shape, Y_validation.shape)\n",
    "print(\"Testing Set:\", X_testing.shape, Y_testing.shape)"
   ]
  },
  {
   "cell_type": "markdown",
   "metadata": {},
   "source": [
    "Linear Regression Model"
   ]
  },
  {
   "cell_type": "code",
   "execution_count": 88,
   "metadata": {},
   "outputs": [
    {
     "name": "stdout",
     "output_type": "stream",
     "text": [
      "[153378.60885542 246882.54756662 231511.70506723 ... 225920.75314874\n",
      " 147337.64284811 103680.44230845]\n",
      "Mean Squared Error: 4833436718.780087\n",
      "Mean Absolute Error: 50207.115796330305\n"
     ]
    }
   ],
   "source": [
    "linearReg = LinearRegression()\n",
    "linearReg.fit(X_train, Y_train)\n",
    "Y_predict = linearReg.predict(X_validation)\n",
    "#print(Y_predict)\n",
    "print('Mean Squared Error:',mean_squared_error(Y_validation, Y_predict))\n",
    "print('Mean Absolute Error:' ,mean_absolute_error(Y_validation, Y_predict))"
   ]
  },
  {
   "cell_type": "markdown",
   "metadata": {},
   "source": [
    "Normalizing data for Lasso and Ridge"
   ]
  },
  {
   "cell_type": "code",
   "execution_count": 76,
   "metadata": {},
   "outputs": [],
   "source": [
    "#Ensures all features have the same scale \n",
    "#Without scaling, large-scale features dominate, making the model biased.\n",
    "scaler = StandardScaler()\n",
    "X_train_scaled = pd.DataFrame(scaler.fit_transform(X_train), columns=X_train.columns)\n",
    "X_testing_scaled = pd.DataFrame(scaler.transform(X_testing), columns=X_testing.columns)\n",
    "X_validation_scaled = pd.DataFrame(scaler.transform(X_validation), columns=X_validation.columns)"
   ]
  },
  {
   "cell_type": "code",
   "execution_count": 77,
   "metadata": {},
   "outputs": [
    {
     "name": "stdout",
     "output_type": "stream",
     "text": [
      "Mean Squared Error: 3860025464925.788\n",
      "Mean Absolute Error: 1962802.2222184064\n"
     ]
    }
   ],
   "source": [
    "normalized_model = LinearRegression()\n",
    "normalized_model.fit(X_train_scaled, Y_train)\n",
    "Y_predictNorm = linearReg.predict(X_validation_scaled)\n",
    "print('Mean Squared Error:', mean_squared_error(Y_validation, Y_predictNorm))\n",
    "print('Mean Absolute Error:', mean_absolute_error(Y_validation, Y_predictNorm))"
   ]
  },
  {
   "cell_type": "markdown",
   "metadata": {},
   "source": [
    "Normalization increases the errors"
   ]
  },
  {
   "cell_type": "markdown",
   "metadata": {},
   "source": [
    "Lasso Regression Model\n"
   ]
  },
  {
   "cell_type": "markdown",
   "metadata": {},
   "source": [
    "Tunning the model with different alpha's -> 0.005 , 0.1 , 10, 100"
   ]
  },
  {
   "cell_type": "code",
   "execution_count": 78,
   "metadata": {},
   "outputs": [
    {
     "name": "stdout",
     "output_type": "stream",
     "text": [
      "alpha 0.1\n",
      "Mean Squared Error: 4833438656.413039\n",
      "Mean Absolute Error: 50207.16010186636\n"
     ]
    }
   ],
   "source": [
    "#coefficients will be shrunk towards a mean of zero, less important features in a dataset are eliminated when penalized. \n",
    "#The shrinkage of these coefficients leads to some form of automatic feature selection\n",
    "lasso1 = Lasso(alpha=0.1 , max_iter=5000)\n",
    "lasso1.fit(X_train_scaled, Y_train)\n",
    "Lasso1_predict = lasso1.predict(X_validation_scaled)\n",
    "print('alpha',0.1)\n",
    "print('Mean Squared Error:', mean_squared_error(Y_validation, Lasso1_predict))\n",
    "print('Mean Absolute Error:', mean_absolute_error(Y_validation, Lasso1_predict))\n"
   ]
  },
  {
   "cell_type": "code",
   "execution_count": 79,
   "metadata": {},
   "outputs": [
    {
     "name": "stdout",
     "output_type": "stream",
     "text": [
      "alpha 0.005\n",
      "Mean Squared Error: 4833436814.93413\n",
      "Mean Absolute Error: 50207.11801161066\n"
     ]
    }
   ],
   "source": [
    "lasso2 = Lasso(alpha=0.005 , max_iter=5000)\n",
    "lasso2.fit(X_train_scaled, Y_train)\n",
    "Lasso2_predict = lasso2.predict(X_validation_scaled)\n",
    "print('alpha',0.005)\n",
    "print('Mean Squared Error:', mean_squared_error(Y_validation, Lasso2_predict))\n",
    "print('Mean Absolute Error:', mean_absolute_error(Y_validation, Lasso2_predict))\n"
   ]
  },
  {
   "cell_type": "code",
   "execution_count": 80,
   "metadata": {},
   "outputs": [
    {
     "name": "stdout",
     "output_type": "stream",
     "text": [
      "alpha 10\n",
      "Mean Squared Error: 4833782414.455374\n",
      "Mean Absolute Error: 50212.13606427012\n"
     ]
    }
   ],
   "source": [
    "lasso3 = Lasso(alpha=10 , max_iter=5000)\n",
    "lasso3.fit(X_train_scaled, Y_train)\n",
    "Lasso3_predict = lasso3.predict(X_validation_scaled)\n",
    "print('alpha',10)\n",
    "print('Mean Squared Error:', mean_squared_error(Y_validation, Lasso3_predict))\n",
    "print('Mean Absolute Error:', mean_absolute_error(Y_validation, Lasso3_predict))\n"
   ]
  },
  {
   "cell_type": "code",
   "execution_count": 81,
   "metadata": {},
   "outputs": [
    {
     "name": "stdout",
     "output_type": "stream",
     "text": [
      "alpha 100\n",
      "Mean Squared Error: 4850651254.895802\n",
      "Mean Absolute Error: 50407.6648388725\n"
     ]
    }
   ],
   "source": [
    "lasso4 = Lasso(alpha=100 , max_iter=5000)\n",
    "lasso4.fit(X_train_scaled, Y_train)\n",
    "Lasso4_predict = lasso4.predict(X_validation_scaled)\n",
    "print('alpha',100)\n",
    "print('Mean Squared Error:',  mean_squared_error(Y_validation, Lasso4_predict))\n",
    "print('Mean Absolute Error:', mean_absolute_error(Y_validation, Lasso4_predict))\n"
   ]
  },
  {
   "cell_type": "markdown",
   "metadata": {},
   "source": [
    "Ridge Regression  Model"
   ]
  },
  {
   "cell_type": "markdown",
   "metadata": {},
   "source": [
    "Tunning the model with different alpha's -> 0.1 , 0.5 , 10, 100"
   ]
  },
  {
   "cell_type": "code",
   "execution_count": 82,
   "metadata": {},
   "outputs": [
    {
     "name": "stdout",
     "output_type": "stream",
     "text": [
      "alpha 0.1\n",
      "Mean Squared Error: 4833424740.8020115\n",
      "Mean Absolute Error: 50207.282834276964\n"
     ]
    }
   ],
   "source": [
    "ridge1 = Ridge(alpha=0.1)\n",
    "ridge1.fit(X_train_scaled, Y_train)\n",
    "Ridge1_predict = ridge1.predict(X_validation_scaled)\n",
    "print('alpha',0.1)\n",
    "print('Mean Squared Error:', mean_squared_error(Y_validation, Ridge1_predict))\n",
    "print('Mean Absolute Error:', mean_absolute_error(Y_validation, Ridge1_predict))\n"
   ]
  },
  {
   "cell_type": "code",
   "execution_count": 83,
   "metadata": {},
   "outputs": [
    {
     "name": "stdout",
     "output_type": "stream",
     "text": [
      "alpha 0.5\n",
      "Mean Squared Error: 4833383410.294054\n",
      "Mean Absolute Error: 50207.97273685816\n"
     ]
    }
   ],
   "source": [
    "ridge2 = Ridge(alpha=0.5)\n",
    "ridge2.fit(X_train_scaled, Y_train)\n",
    "Ridge2_predict = ridge2.predict(X_validation_scaled)\n",
    "print('alpha',0.5)\n",
    "print('Mean Squared Error:', mean_squared_error(Y_validation, Ridge2_predict))\n",
    "print('Mean Absolute Error:', mean_absolute_error(Y_validation, Ridge2_predict))\n"
   ]
  },
  {
   "cell_type": "code",
   "execution_count": 84,
   "metadata": {},
   "outputs": [
    {
     "name": "stdout",
     "output_type": "stream",
     "text": [
      "alpha 10\n",
      "Mean Squared Error: 4834335524.816737\n",
      "Mean Absolute Error: 50239.07915627115\n"
     ]
    }
   ],
   "source": [
    "ridge3 = Ridge(alpha=10)\n",
    "ridge3.fit(X_train_scaled, Y_train)\n",
    "Ridge3_predict = ridge3.predict(X_validation_scaled)\n",
    "print('alpha',10)\n",
    "print('Mean Squared Error:',  mean_squared_error(Y_validation, Ridge3_predict))\n",
    "print('Mean Absolute Error:', mean_absolute_error(Y_validation, Ridge3_predict))\n"
   ]
  },
  {
   "cell_type": "code",
   "execution_count": 85,
   "metadata": {},
   "outputs": [
    {
     "name": "stdout",
     "output_type": "stream",
     "text": [
      "alpha 100\n",
      "Mean Squared Error: 4857549166.776737\n",
      "Mean Absolute Error: 50608.16353674283\n"
     ]
    }
   ],
   "source": [
    "ridge4 = Ridge(alpha=100)\n",
    "ridge4.fit(X_train_scaled, Y_train)\n",
    "Ridge4_predict = ridge4.predict(X_validation_scaled)\n",
    "print('alpha',100)\n",
    "print('Mean Squared Error:', mean_squared_error(Y_validation, Ridge4_predict))\n",
    "print('Mean Absolute Error:', mean_absolute_error(Y_validation, Ridge4_predict))\n"
   ]
  },
  {
   "cell_type": "markdown",
   "metadata": {},
   "source": [
    "Using the test set on all models"
   ]
  },
  {
   "cell_type": "code",
   "execution_count": 86,
   "metadata": {},
   "outputs": [
    {
     "name": "stdout",
     "output_type": "stream",
     "text": [
      "Linear Model\n",
      "Mean Squared Error: 4659866522.896966\n",
      "Mean Absolute Error: 49887.3992039401\n",
      "Lasso Model\n",
      "Mean Squared Error: 4659866025.478232\n",
      "Mean Absolute Error: 49887.402049423494\n",
      "Ridge Model\n",
      "Mean Squared Error: 4659816944.707518\n",
      "Mean Absolute Error: 49887.58996591939\n"
     ]
    }
   ],
   "source": [
    "linear_test = linearReg.predict(X_testing)\n",
    "print('Linear Model')\n",
    "print('Mean Squared Error:', mean_squared_error(Y_testing, linear_test))\n",
    "print('Mean Absolute Error:',mean_absolute_error(Y_testing, linear_test))\n",
    "lasso_test = lasso2.predict(X_testing_scaled)#choosing alpha with the least errors\n",
    "print('Lasso Model')\n",
    "print('Mean Squared Error:',mean_squared_error(Y_testing, lasso_test))\n",
    "print('Mean Absolute Error:',mean_absolute_error(Y_testing, lasso_test))\n",
    "ridge_test = ridge1.predict(X_testing_scaled)#choosing alpha with the least errors\n",
    "print('Ridge Model')\n",
    "print('Mean Squared Error:', mean_squared_error(Y_testing, ridge_test))\n",
    "print('Mean Absolute Error:', mean_absolute_error(Y_testing, ridge_test))\n"
   ]
  },
  {
   "cell_type": "markdown",
   "metadata": {},
   "source": [
    "After using the test set on all models and calculating their MSE and MAE it shows that regularization didn't improve the model's performance"
   ]
  }
 ],
 "metadata": {
  "kernelspec": {
   "display_name": "Python 3.13.2 64-bit",
   "language": "python",
   "name": "python3"
  },
  "language_info": {
   "codemirror_mode": {
    "name": "ipython",
    "version": 3
   },
   "file_extension": ".py",
   "mimetype": "text/x-python",
   "name": "python",
   "nbconvert_exporter": "python",
   "pygments_lexer": "ipython3",
   "version": "3.13.2"
  },
  "orig_nbformat": 4,
  "vscode": {
   "interpreter": {
    "hash": "aee8b7b246df8f9039afb4144a1f6fd8d2ca17a180786b69acc140d282b71a49"
   }
  }
 },
 "nbformat": 4,
 "nbformat_minor": 2
}
